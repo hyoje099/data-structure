{
  "nbformat": 4,
  "nbformat_minor": 0,
  "metadata": {
    "colab": {
      "provenance": [],
      "authorship_tag": "ABX9TyNSjLn6WZW2Vpp9tJn+690A",
      "include_colab_link": true
    },
    "kernelspec": {
      "name": "python3",
      "display_name": "Python 3"
    },
    "language_info": {
      "name": "python"
    }
  },
  "cells": [
    {
      "cell_type": "markdown",
      "metadata": {
        "id": "view-in-github",
        "colab_type": "text"
      },
      "source": [
        "<a href=\"https://colab.research.google.com/github/hyoje099/data-structure/blob/main/0403_%EC%9E%90%EB%A3%8C%EA%B5%AC%EC%A1%B0.ipynb\" target=\"_parent\"><img src=\"https://colab.research.google.com/assets/colab-badge.svg\" alt=\"Open In Colab\"/></a>"
      ]
    },
    {
      "cell_type": "markdown",
      "source": [
        "배열 사용하기"
      ],
      "metadata": {
        "id": "6I55SQThTtHC"
      }
    },
    {
      "cell_type": "code",
      "execution_count": 9,
      "metadata": {
        "colab": {
          "base_uri": "https://localhost:8080/"
        },
        "id": "4TqHvG68TXV1",
        "outputId": "18a6e7c2-3a41-4b8b-9e46-b847344e624d"
      },
      "outputs": [
        {
          "output_type": "stream",
          "name": "stdout",
          "text": [
            "야호\n",
            "yeah\n",
            "안녕 클레오 파트라\n",
            "김효제\n",
            "1\n",
            "1.0\n",
            "1\n"
          ]
        }
      ],
      "source": [
        "#출력하기\n",
        "\n",
        "print('야호')\n",
        "print('yeah')\n",
        "print('안녕','클레오','파트라')\n",
        "print('김효제')\n",
        "print(1)\n",
        "print(1.0)\n",
        "print('1')"
      ]
    },
    {
      "cell_type": "code",
      "source": [
        "print(1+2)\n",
        "print(1+2+3/3)\n",
        "print(3.14*10)"
      ],
      "metadata": {
        "colab": {
          "base_uri": "https://localhost:8080/"
        },
        "id": "qYbC7WNDU-u7",
        "outputId": "a2039988-a26f-4874-80c9-3018a7d031ee"
      },
      "execution_count": 11,
      "outputs": [
        {
          "output_type": "stream",
          "name": "stdout",
          "text": [
            "3\n",
            "4.0\n",
            "31.400000000000002\n"
          ]
        }
      ]
    },
    {
      "cell_type": "code",
      "source": [
        "a = [95,100,45,75]\n",
        "\n",
        "print(a)"
      ],
      "metadata": {
        "colab": {
          "base_uri": "https://localhost:8080/"
        },
        "id": "7sM5vdzbWvl-",
        "outputId": "659f76b4-0ce5-4605-c8f4-372b6e11a982"
      },
      "execution_count": 12,
      "outputs": [
        {
          "output_type": "stream",
          "name": "stdout",
          "text": [
            "[95, 100, 45, 75]\n"
          ]
        }
      ]
    },
    {
      "cell_type": "code",
      "source": [
        "print(a[2])"
      ],
      "metadata": {
        "colab": {
          "base_uri": "https://localhost:8080/"
        },
        "id": "8pAYjxOZW_tH",
        "outputId": "f9ca1ba5-0e53-4e9b-98eb-d3e92126d0c2"
      },
      "execution_count": 13,
      "outputs": [
        {
          "output_type": "stream",
          "name": "stdout",
          "text": [
            "45\n"
          ]
        }
      ]
    },
    {
      "cell_type": "code",
      "source": [
        "print(a[0])"
      ],
      "metadata": {
        "colab": {
          "base_uri": "https://localhost:8080/"
        },
        "id": "qbTk0cz7XHHS",
        "outputId": "6f01a75e-df7b-4f6e-ddb7-6dec956c5bf7"
      },
      "execution_count": 14,
      "outputs": [
        {
          "output_type": "stream",
          "name": "stdout",
          "text": [
            "95\n"
          ]
        }
      ]
    },
    {
      "cell_type": "code",
      "source": [
        "print(a[1])\n",
        "print(a[-1])\n",
        "print(a[2])\n",
        "print(a[0])\n",
        "print(a[-2])"
      ],
      "metadata": {
        "colab": {
          "base_uri": "https://localhost:8080/"
        },
        "id": "qwzFD9OkXeVs",
        "outputId": "8c958d1f-ca69-49a3-b9c5-7f2ae12a1557"
      },
      "execution_count": 18,
      "outputs": [
        {
          "output_type": "stream",
          "name": "stdout",
          "text": [
            "100\n",
            "75\n",
            "45\n",
            "95\n",
            "45\n"
          ]
        }
      ]
    },
    {
      "cell_type": "code",
      "source": [
        "print(a)\n",
        "a.append(99)\n",
        "print(a)"
      ],
      "metadata": {
        "colab": {
          "base_uri": "https://localhost:8080/"
        },
        "id": "UkFEYbmVaxiP",
        "outputId": "efda4ed4-0736-4ca7-a55c-01d51e182f4a"
      },
      "execution_count": 42,
      "outputs": [
        {
          "output_type": "stream",
          "name": "stdout",
          "text": [
            "[95, 100, 75]\n",
            "[95, 100, 75, 99]\n"
          ]
        }
      ]
    },
    {
      "cell_type": "code",
      "source": [
        "a = [95,100,45,75]\n",
        "print(a)\n",
        "b = a.pop(2)\n",
        "print(a)\n",
        "print(b)"
      ],
      "metadata": {
        "colab": {
          "base_uri": "https://localhost:8080/"
        },
        "id": "GpV-yOlTbAUp",
        "outputId": "4527bb08-5963-479d-f4e8-9233c75cacba"
      },
      "execution_count": 41,
      "outputs": [
        {
          "output_type": "stream",
          "name": "stdout",
          "text": [
            "[95, 100, 45, 75]\n",
            "[95, 100, 75]\n",
            "45\n"
          ]
        }
      ]
    },
    {
      "cell_type": "code",
      "source": [
        "a = [95,100,45,75]\n",
        "print(a)\n",
        "b = a.insert(2,3)\n",
        "print(a)\n",
        "\n"
      ],
      "metadata": {
        "colab": {
          "base_uri": "https://localhost:8080/"
        },
        "id": "k-S-bM9_bIjq",
        "outputId": "beb02965-d5c3-43a2-e85c-c773affa4f8f"
      },
      "execution_count": 44,
      "outputs": [
        {
          "output_type": "stream",
          "name": "stdout",
          "text": [
            "[95, 100, 45, 75]\n",
            "[95, 100, 3, 45, 75]\n",
            "None\n"
          ]
        }
      ]
    },
    {
      "cell_type": "code",
      "source": [
        "c = [\n",
        "    [1,2,3],\n",
        "    [4,5,6]\n",
        "]\n",
        "print(c)"
      ],
      "metadata": {
        "colab": {
          "base_uri": "https://localhost:8080/"
        },
        "id": "7GOhPbdccupY",
        "outputId": "4442df73-a9f0-41fa-af51-70b69ac9481f"
      },
      "execution_count": 45,
      "outputs": [
        {
          "output_type": "stream",
          "name": "stdout",
          "text": [
            "[[1, 2, 3], [4, 5, 6]]\n"
          ]
        }
      ]
    },
    {
      "cell_type": "code",
      "source": [
        "# 과제1: 3과 4만 출력하시오.\n",
        "c = [\n",
        "    [1,2,3],\n",
        "    [4,5,6]\n",
        "]\n",
        "print(c[0][2],c[1][0])\n",
        "\n",
        "c[1][0]=100\n",
        "print(c)\n",
        "\n",
        "c.pop()\n",
        "print(c)"
      ],
      "metadata": {
        "colab": {
          "base_uri": "https://localhost:8080/"
        },
        "id": "Yje9znQjdO91",
        "outputId": "0c5d47c3-8786-421e-f9d9-fe2921a0c372"
      },
      "execution_count": 48,
      "outputs": [
        {
          "output_type": "stream",
          "name": "stdout",
          "text": [
            "3 4\n",
            "[[1, 2, 3], [100, 5, 6]]\n",
            "[[1, 2, 3]]\n"
          ]
        }
      ]
    },
    {
      "cell_type": "code",
      "source": [
        "d=[\n",
        "    [\n",
        "        [1,2,3],\n",
        "        [4,5,6]\n",
        "    ],\n",
        "    [\n",
        "        [7,8,9],\n",
        "        [2,3,5]\n",
        "    ]\n",
        "]\n",
        "\n",
        "print(d[1][0][1])"
      ],
      "metadata": {
        "colab": {
          "base_uri": "https://localhost:8080/"
        },
        "id": "X2GfLKGmeDA7",
        "outputId": "64179641-7185-4928-8903-ff622da791e8"
      },
      "execution_count": 53,
      "outputs": [
        {
          "output_type": "stream",
          "name": "stdout",
          "text": [
            "8\n"
          ]
        }
      ]
    }
  ]
}